{
 "cells": [
  {
   "cell_type": "markdown",
   "metadata": {},
   "source": [
    "# Examine the source code src/structs"
   ]
  },
  {
   "cell_type": "markdown",
   "metadata": {},
   "source": [
    "## Afnan Alqahtani and Alexis Ford\n",
    "Nov 22,2016"
   ]
  },
  {
   "cell_type": "markdown",
   "metadata": {},
   "source": [
    "### 1- In a Jupyter notebook Structs.ipynb, explain how this code differs from the equivalent C implementation that you examined in a previous class. Be specific and detailed."
   ]
  },
  {
   "cell_type": "markdown",
   "metadata": {},
   "source": [
    "First, in C++ there’s a \"#define guard\" for a header file. It ensures that the header file is only included once by the preprocessor, and the #ifndef is terminated at the end of the header file. The define guard dos not exist in C. Second, In C++ structs have a typedef defined automatically, unlike in C have to initialize an alias a new struct type. Third, going through the code in C++ there is two functions with the same name. The first one is pass by value, and the second one is passed by reference. It’s called overloading Function, which allows the same name to be used for different types. It’s not there in C code.\n"
   ]
  },
  {
   "cell_type": "markdown",
   "metadata": {},
   "source": [
    "#### 2-Explain what a #define guard does, and why it could be useful"
   ]
  },
  {
   "cell_type": "markdown",
   "metadata": {},
   "source": [
    "At the head of the file we have #ifndef #define. The #define guard ensures that the header file is only included once by the preprocessor. So if we have many header file using it with other files and always including and we run them all the compiler might freak out.\n",
    "Its useful because it prevents the reputation issue.\n"
   ]
  },
  {
   "cell_type": "markdown",
   "metadata": {},
   "source": [
    "#### 3-Explain what type overloading is, and why it could be useful"
   ]
  },
  {
   "cell_type": "markdown",
   "metadata": {},
   "source": [
    "Function overloading allows the same name to be used for different types\n",
    "for example, when we call an overloaded function, the compiler chooses the right function to use by comparing the argument types we used to call the function. It’s useful because we don’t need to type the type again which makes it easier for the user.\n",
    "\n"
   ]
  },
  {
   "cell_type": "markdown",
   "metadata": {},
   "source": [
    "#### 4-Explain the difference between “pass by reference” in C and “pass by reference” in C++.\n"
   ]
  },
  {
   "cell_type": "markdown",
   "metadata": {},
   "source": [
    "**C**\n",
    "\n",
    "\n",
    "When passing a pointer to a function, we are still passing it by value. The address it contains is copied into the function. Modifying that pointer inside the function will not change the pointer outside the function - however, modifying the object it points to will change the object outside the function. No references ever actually existed.\n",
    "\n",
    "**c++**\n",
    "\n",
    "\n",
    "Unlike in C, where passing by reference was really just passing a pointer by value, in C++ we can genuinely pass by reference. There are no pointers involved. A type followed by an ampersand is a reference type. When passing an argument to a function that takes reference type, the object is truly passed by reference.\n",
    "\n",
    "from the website : http://stackoverflow.com/questions/13654138/what-exactly-is-the-difference-between-pass-by-reference-in-c-and-in-c"
   ]
  },
  {
   "cell_type": "markdown",
   "metadata": {},
   "source": [
    "#### 5-Explain what operator type overloading is, and why it could be useful\n"
   ]
  },
  {
   "cell_type": "markdown",
   "metadata": {},
   "source": [
    "Operator type overloading is a functions with name \"operator+\" for example, Box operator+(const Box&). We can overload most of the built-in operators available in C++. It makes it easier to do some add operator such the one we are doing now the victors."
   ]
  }
 ],
 "metadata": {
  "kernelspec": {
   "display_name": "Python 2 (SageMath)",
   "language": "python",
   "name": "python2"
  },
  "language_info": {
   "codemirror_mode": {
    "name": "ipython",
    "version": 2
   },
   "file_extension": ".py",
   "mimetype": "text/x-python",
   "name": "python",
   "nbconvert_exporter": "python",
   "pygments_lexer": "ipython2",
   "version": "2.7.10"
  }
 },
 "nbformat": 4,
 "nbformat_minor": 0
}
