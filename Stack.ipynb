{
 "cells": [
  {
   "cell_type": "markdown",
   "metadata": {},
   "source": [
    "# Stack in `C++`\n",
    "## Alexis Ford, Afnan Alqahtani\n",
    "### Defining and Implementing a Stack  \n",
    "The Stack type is defined as a class. The class contains a private structure `Node`, and two private members `depth` of type size_t, and `head`, a pointer to a `Node`. The structure `Node` contains two fields, `data` of type `SValue`, which is a type abstraction of `int`, and a `unique_ptr` of type `Node *` called `next`. The class also contains six public functions: a default constructor; a `size` method, which returns the size of the stack; `push` and `pop` methods; an `empty` method, which returns `true` if the stack is empty and `false` otherwise; and a `print` method.  \n",
    "  \n",
    "Our `C++` stack has much of the same functionality as the `C` stack, with the exception of aspects unique to classes. The default constructor creates a `Stack` with a `depth` of 0 and `head`of `nullptr`.  Calling the `size` function returns `this -> depth`, which is the `depth` of the current `Stack` instance.  \n",
    "  \n",
    "Pushing a value onto the `Stack` works much like our `C` implementation. A `unique_ptr` that points to a new `Node`, named `new_node_ptr` is created. Then its `data` field is set to the function argument `val`. Since `head` is a `unique_ptr` and cannot be reassigned, the function `move` is used to make the `next` field of `new_node_ptr` point to the `head` of the current `Stack` instance. Then the `move` function is used to change the current instance's `head` to be `new_node_ptr`, the node whose data we just put on top of the `Stack`.  \n",
    "  \n",
    "Popping a value is also done much like the `C` implementation. The method returns `-1` if the `Stack` is empty, otherwise the `data` at the top of the `Stack` is assigned to `val` (to be returned at the end), then the current instance's `head` is moved to be the `next` pointer of the node being removed. The old head is deallocated automatically, since it is a `unique_ptr`.\n",
    "\n",
    "For the most part, the implementation of our `C++` `Stack` is very similar to our `C` implementation. The main difference is that our `Stack` is now a class, though each node is still a `struct` with a recursive type deffinition, as in the `C` implementation. The algorithms for each of the functions are also very similar, the only difference being the use of `unique_ptr`s, which necessitates the use of the `move` function when changing what the pointer is pointing to, and does not require explicite memory management.  \n",
    "  \n",
    "### Class vs. Struct\n",
    "While both a class and a struct contain members, struct members are by default public, while class members are by default private. By conventionm structs are used for static data and classes are used otherwise. The functions of a class are called methods, classes have an internal pointer to themselves called `this`.  \n",
    "\n",
    "### Private vs. Public\n",
    "Using `private` means the contents of the block (variables, functions, etc.) can only be used within the implementation of the class in which it was defined. Public contents have no such restriction and can be used outside of the class.\n",
    "\n",
    "### Using `size_t`\n",
    "`size_t` is a type used for storing sizes of objects. It is a safer alternative to using `unsigned int` in C, which can cause problems when working with and converting to signed integers.\n",
    "\n",
    "### Avoiding `C` pointers\n",
    "C pointers must be handeled carefully to prevent memory leaks when explicitly allocating memory. Using `unique_ptr` is memory-safe on its own, rather than requiring memory management with a destructor, a copy constructor, and a copy assignment.\n",
    "\n",
    "### `new` and `delete`\n",
    "Using `new` in C++ is equivalent to allocating a block of memory  in C using calloc(). Using `delete` is the same as using `free()` in C to deallocate memory that is no longer being used.\n",
    "\n",
    "### Avoiding Memory Leaks\n",
    "A memory leak occurs when allocated memory is not deallocated when it is done being used. Over time, this memory can increase to the point where no new memory can be allocated. To avoid memory leaks, it is important to properly deallocate memory; following either the Rule of Three or the Rule of Zero is one way to manage memory and prevent leaks.\n",
    "\n",
    "### The `unique_ptr`, `new`, and `C` pointers\n",
    "A unique_ptr is a memory-safe structure which can be used to avoid explicit memory allocation (such as using `new` in C++, or using `calloc` in C), and which automaticaly manages the deallocation (instead of having to use `delete` in C++ or `free` in C). \n",
    "\n",
    "### List initializers\n",
    "A list initializer is used in constructors to set the default field values for a class instance. That is, when an instance of a class is created, before any values are set for the fields, the values default to those in the list initializer.\n",
    "\n",
    "### The \"Rule of Zero\" and the \"Rule of Three\"\n",
    "The Rule of Three is used with classes for memory management, when memory is being managed explicitly. It states that the class should contain a destructor, a copy constructor, and a copy assignment to prevent memory leaks. The Rule of Zero, on the other hand, states that, by using memory-safe structures such as `unique_ptr`, none of the previously mentioned things need to be defined or implemented."
   ]
  }
 ],
 "metadata": {
  "anaconda-cloud": {},
  "kernelspec": {
   "display_name": "Python [default]",
   "language": "python",
   "name": "python3"
  },
  "language_info": {
   "codemirror_mode": {
    "name": "ipython",
    "version": 3
   },
   "file_extension": ".py",
   "mimetype": "text/x-python",
   "name": "python",
   "nbconvert_exporter": "python",
   "pygments_lexer": "ipython3",
   "version": "3.5.2"
  }
 },
 "nbformat": 4,
 "nbformat_minor": 1
}
