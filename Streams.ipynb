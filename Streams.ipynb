{
 "cells": [
  {
   "cell_type": "markdown",
   "metadata": {},
   "source": [
    "# Examine the source code streams"
   ]
  },
  {
   "cell_type": "markdown",
   "metadata": {},
   "source": [
    "## Afnan Alqahtani and Alexis Ford\n",
    "Nov 22, 2016"
   ]
  },
  {
   "cell_type": "markdown",
   "metadata": {
    "collapsed": false
   },
   "source": [
    "#### 1-In a Jupyter notebook Streams.ipynb, explain the key differences that you see in the file between C++ and C.\n"
   ]
  },
  {
   "cell_type": "markdown",
   "metadata": {},
   "source": [
    "A- Instead of .c files, C++ uses .cpp files, and instead of .h files, C++ uses .hpp files \n",
    "\n",
    "B- We have namespace in C++ witch is a declarative region that provides a scope to the identifiers (the names of types, functions, variables, etc) inside it. Namespaces are used to organize code into logical groups and to prevent name collisions that can occur especially when your code base includes multiple libraries. Source: https://msdn.microsoft.com/en-us/library/5cb46ksf.aspx\n",
    "\n",
    "C- The last difference is in the question number 4.\n"
   ]
  },
  {
   "cell_type": "markdown",
   "metadata": {},
   "source": [
    "#### 2-Describe the concept of a namespace, and what :: means.\n"
   ]
  },
  {
   "cell_type": "markdown",
   "metadata": {},
   "source": [
    "Namespaces are used to organize names, of functions, objects, variables, and so on. Calling a function called `print` in one namespace could yield a completely different outcome, or could be used on a completely object or type, as a function `print` in another namespace. \n",
    "The `::`, called a scope operator, looks inside a namespace. For example, `foo::print()` is using the function `print` from the namespace `foo`. It is possible to omit the namespace name and just call the function by `using namespace the_namespace` to bring everything from the_namespace into local scope, but this is poor practice. It brings in functions and such that you do not intend to use, which could potentially conflict with the names of things you do intend to use."
   ]
  },
  {
   "cell_type": "markdown",
   "metadata": {},
   "source": [
    "#### 3- Describe how streams do things differently. In particular, explain the differences in reading from command line arguments, reading and writing to a file, printing to standard output, and printing to standard error."
   ]
  },
  {
   "cell_type": "markdown",
   "metadata": {},
   "source": [
    "Reading from a command line argument is similar to C in that the command line arguments can be accessed through argv, a pointer to an array of char pointers. The stream operator `<<` could then convert the C-string to a true C++ string. A stream is an object which performs input or output. Depending on where you are inputing or outputing, different streams are used. File io uses ofstream to write to a file, and ifstream to read from a file. Printing to standard output uses cout, and printing to standard error uses cerr."
   ]
  },
  {
   "cell_type": "markdown",
   "metadata": {},
   "source": [
    "#### 4- Explain how a C++ string differs from a C string.\n"
   ]
  },
  {
   "cell_type": "markdown",
   "metadata": {},
   "source": [
    "In C, strings are just char arrays which end with a NUL byte.We can malloc the space for them. Memory management when modifying strings is our responsibility. In C++ strings (std::string) are objects with all the associated automated memory management and control which makes them a lot safer and easier to use. The source: http://stackoverflow.com/questions/3454900/whats-the-difference-between-c-strings-and-c-strings"
   ]
  }
 ],
 "metadata": {
  "kernelspec": {
   "display_name": "Python 2 (SageMath)",
   "language": "python",
   "name": "python2"
  },
  "language_info": {
   "codemirror_mode": {
    "name": "ipython",
    "version": 2
   },
   "file_extension": ".py",
   "mimetype": "text/x-python",
   "name": "python",
   "nbconvert_exporter": "python",
   "pygments_lexer": "ipython2",
   "version": "2.7.10"
  }
 },
 "nbformat": 4,
 "nbformat_minor": 0
}
